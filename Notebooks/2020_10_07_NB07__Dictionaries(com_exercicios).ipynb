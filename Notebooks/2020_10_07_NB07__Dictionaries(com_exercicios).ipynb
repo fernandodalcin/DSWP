{
  "nbformat": 4,
  "nbformat_minor": 0,
  "metadata": {
    "colab": {
      "name": "NB07__Dictionaries.ipynb",
      "provenance": [],
      "collapsed_sections": [
        "n8BIbzQbNWUo",
        "7eS94uQ4NhVR",
        "SYOgJpGYVLUu",
        "CaHFxk98W5if",
        "ReWUyWiHXCnc",
        "CqszHxaKHr2h",
        "tXgF1Wl9gHKY",
        "Fotx7XUquAo8",
        "36kmLUYDvsUI",
        "SWO2GdNovxAp",
        "vpN54l4vxze5",
        "u4HOf9SNytSq",
        "6BQ9oZiD9hg5",
        "tz5-QdrX9vct",
        "p1muBgMX8NK4",
        "FxTC2-U88ajk",
        "z8EYn0pP25Rh"
      ],
      "include_colab_link": true
    },
    "kernelspec": {
      "name": "python3",
      "display_name": "Python 3"
    },
    "accelerator": "GPU"
  },
  "cells": [
    {
      "cell_type": "markdown",
      "metadata": {
        "id": "view-in-github",
        "colab_type": "text"
      },
      "source": [
        "<a href=\"https://colab.research.google.com/github/fernandodalcin/DSWP/blob/DSWP_meus_nbs/Notebooks/2020_10_07_NB07__Dictionaries(com_exercicios).ipynb\" target=\"_parent\"><img src=\"https://colab.research.google.com/assets/colab-badge.svg\" alt=\"Open In Colab\"/></a>"
      ]
    },
    {
      "cell_type": "markdown",
      "metadata": {
        "id": "iBW6agsvqqAm"
      },
      "source": [
        "<center><h1><b><i>DICIONÁRIOS</i></b></h1></center>\n",
        "\n",
        "* Coleção desordenada, mutável e indexada (estrutura do tipo {key: value}) de itens;\n",
        "* Não permite itens duplicados;\n",
        "* Usamos {key: value} para representar os itens do dicionário;\n",
        "\n"
      ]
    },
    {
      "cell_type": "markdown",
      "metadata": {
        "id": "LFcr_2Xnq2ho"
      },
      "source": [
        "# **AGENDA**:\n",
        "\n",
        "> Veja o **índice** dos itens que serão abordados neste capítulo.\n",
        "\n"
      ]
    },
    {
      "cell_type": "markdown",
      "metadata": {
        "id": "r8vR-lHJIhgM"
      },
      "source": [
        "# **NOTAS E OBSERVAÇÕES**\n",
        "* Levar os exemplos de lambda function daqui para o capítulo de Lambda Function.\n"
      ]
    },
    {
      "cell_type": "markdown",
      "metadata": {
        "id": "DkxCxjsbE5fL"
      },
      "source": [
        "# **CHEETSHEET**"
      ]
    },
    {
      "cell_type": "markdown",
      "metadata": {
        "id": "cGUWTualFCOk"
      },
      "source": [
        "![DataSctructures](https://github.com/MathMachado/Materials/blob/master/PythonDataStructures.png?raw=true)"
      ]
    },
    {
      "cell_type": "markdown",
      "metadata": {
        "id": "ublDMf3R_qMn"
      },
      "source": [
        "A seguir, os principais métodos associados aos dicionários. Para isso, considere as listas l_frutas e l_precos_frutas que darão origem ao dicionário d_frutas a seguir:"
      ]
    },
    {
      "cell_type": "code",
      "metadata": {
        "id": "FxuJ7Awd8f5a",
        "outputId": "e118de06-74b7-4bc6-9b40-5d5313a35495",
        "colab": {
          "base_uri": "https://localhost:8080/"
        }
      },
      "source": [
        "# Definição da lista l_frutas:\n",
        "l_frutas = ['Avocado', 'Apple', 'Apricot', 'Banana', 'Blackcurrant', 'Blackberry', 'Blueberry', 'Cherry', 'Coconut', 'Fig', 'Grape', 'Kiwi', 'Lemon', 'Mango', 'Nectarine', \n",
        "          'Orange', 'Papaya','Passion Fruit','Peach','Pineapple','Plum','Raspberry','Strawberry','Watermelon']\n",
        "print(l_frutas)"
      ],
      "execution_count": null,
      "outputs": [
        {
          "output_type": "stream",
          "text": [
            "['Avocado', 'Apple', 'Apricot', 'Banana', 'Blackcurrant', 'Blackberry', 'Blueberry', 'Cherry', 'Coconut', 'Fig', 'Grape', 'Kiwi', 'Lemon', 'Mango', 'Nectarine', 'Orange', 'Papaya', 'Passion Fruit', 'Peach', 'Pineapple', 'Plum', 'Raspberry', 'Strawberry', 'Watermelon']\n"
          ],
          "name": "stdout"
        }
      ]
    },
    {
      "cell_type": "code",
      "metadata": {
        "id": "jJyxuMQc9Ewy"
      },
      "source": [
        "# Definição da lista l_precos_frutas:\n",
        "l_precos_frutas = [0.35, 0.40, 0.25, 0.30, 0.70, 0.55, 0.45, 0.50, 0.75, 0.60, 0.65, 0.20, 0.15, 0.80, 0.75, 0.25, 0.30,0.45,0.55,0.55,0.60,0.40,0.50,0.45]"
      ],
      "execution_count": null,
      "outputs": []
    },
    {
      "cell_type": "markdown",
      "metadata": {
        "id": "hXP3kxW4-AI1"
      },
      "source": [
        "Observe abaixo o uso das funções dict() e zip() para criarmos o dicionário d_frutas:"
      ]
    },
    {
      "cell_type": "code",
      "metadata": {
        "id": "qT_4sYxA9dyn",
        "outputId": "771cbbdf-f020-422e-a544-d58dd72c0506",
        "colab": {
          "base_uri": "https://localhost:8080/"
        }
      },
      "source": [
        "# Define o dicionário d_frutas {chave: valor}\n",
        "d_frutas = dict(zip(l_frutas, l_precos_frutas))\n",
        "d_frutas"
      ],
      "execution_count": null,
      "outputs": [
        {
          "output_type": "execute_result",
          "data": {
            "text/plain": [
              "{'Apple': 0.4,\n",
              " 'Apricot': 0.25,\n",
              " 'Avocado': 0.35,\n",
              " 'Banana': 0.3,\n",
              " 'Blackberry': 0.55,\n",
              " 'Blackcurrant': 0.7,\n",
              " 'Blueberry': 0.45,\n",
              " 'Cherry': 0.5,\n",
              " 'Coconut': 0.75,\n",
              " 'Fig': 0.6,\n",
              " 'Grape': 0.65,\n",
              " 'Kiwi': 0.2,\n",
              " 'Lemon': 0.15,\n",
              " 'Mango': 0.8,\n",
              " 'Nectarine': 0.75,\n",
              " 'Orange': 0.25,\n",
              " 'Papaya': 0.3,\n",
              " 'Passion Fruit': 0.45,\n",
              " 'Peach': 0.55,\n",
              " 'Pineapple': 0.55,\n",
              " 'Plum': 0.6,\n",
              " 'Raspberry': 0.4,\n",
              " 'Strawberry': 0.5,\n",
              " 'Watermelon': 0.45}"
            ]
          },
          "metadata": {
            "tags": []
          },
          "execution_count": 4
        }
      ]
    },
    {
      "cell_type": "code",
      "metadata": {
        "id": "45NSQJTJaS1s",
        "outputId": "d0ea5f6b-1f13-412a-84c3-d14fd3c479af",
        "colab": {
          "base_uri": "https://localhost:8080/"
        }
      },
      "source": [
        "d_frutas['Apple']"
      ],
      "execution_count": null,
      "outputs": [
        {
          "output_type": "execute_result",
          "data": {
            "text/plain": [
              "0.4"
            ]
          },
          "metadata": {
            "tags": []
          },
          "execution_count": 8
        }
      ]
    },
    {
      "cell_type": "markdown",
      "metadata": {
        "id": "iHKUaGNT_IDt"
      },
      "source": [
        "A seguir, resumo dos principais métodos relacionados à dicionários:"
      ]
    },
    {
      "cell_type": "markdown",
      "metadata": {
        "id": "MQLZ1mwW_yiU"
      },
      "source": [
        "| Método                  | Descrição                                                                                          | Exemplo                                  | Resultado                                                                      |\n",
        "|-------------------------|----------------------------------------------------------------------------------------------------|------------------------------------------|--------------------------------------------------------------------------------|\n",
        "| d_dicionario.clear()               | Remove todos os itens de d_dicionario                                                                         | d_frutas.clear()                          | {}                                                                             |\n",
        "| d_dicionario.copy()                | Retorna uma cópia de d_dicionario                                                                             | d_frutas2= d_frutas.copy()                 | d_frutas2 é uma cópia de d_frutas                                                |\n",
        "| d_dicionario.get(key)              | Retorna o valor para key, se key estiver em d_dicionario                                                      | d_frutas.get('Passion Fruit')             | 0.45                                                                           |\n",
        "|                         |                                                                                                    | d_frutas.get('XPTO')                      | O Python não apresenta nenhum retorno                                          |\n",
        "| d_dicionario.items()               | Retorna um objeto com as tuplas (key, valor) de d_dicionario                                                  | d_frutas.items()                          | dict_items([('Avocado', 0.35), ..., ('Watermelon', 0.45)])                     |\n",
        "| d_dicionario.keys()                | Retorna um objeto com as keys de d_dicionario                                                                 | d_frutas.keys()                           | dict_keys(['Avocado', 'Apple', ..., 'Watermelon'])                             |\n",
        "| d_dicionario.values()              | Retorna um objeto com os valores de d_dicionario                                                              | d_frutas.values()                         | dict_values([0.35, 0.4, ..., 0.45])                                            |\n",
        "| d_dicionario.popitem()             | Retorna e remove um item de d_dicionario                                                                      | d_frutas.popitem()                        | ('Watermelon', 0.45)                                                           |\n",
        "|                         |                                                                                                    | 'Watermelon' in d_frutas                  | False                                                                          |\n",
        "| d_dicionario.pop(key[, default])   | Retorna e remove o item de d_dicionario correspondente à key                                                  | d_frutas.pop('Orange')                    | 0.25                                                                           |\n",
        "|                         |                                                                                                    | 'Orange' in d_frutas                      | False                                                                          |\n",
        "| d_dicionario.update(d2)            | Adiciona item(s) à d_dicionario se key não estiver em d_dicionario. Se key estiver em d_dicionario, atualizará key com o novo valor | d_frutas.update({'Cherimoya': 1.3})       | Adicionará o item {'Cherimoya': 1.3} à d_frutas, pois key= 'Cherimoya' não está em d_frutas. |\n",
        "|                         |                                                                                                    | d_frutas.update({'Orange': 0.55})         | Atualiza o valor de key= 'Orange' para 0.55. O valor anterior era 0.25         |\n",
        "| d_dicionario.fromkeys(keys, value) | Retorna um dicionário com keys especificadas e valores                                             | tFruits= ('Avocado', 'Apple', 'Apricot') |                                                                                |\n",
        "|                         |                                                                                                    | d_frutas.fromkeys(tFruits, 0)             | {'Apple': 0, 'Apricot': 0, 'Avocado': 0}                                       |"
      ]
    },
    {
      "cell_type": "markdown",
      "metadata": {
        "id": "uH6cHnctDu2l"
      },
      "source": [
        "A seguir, vamos apresentar mais alguns exemplos de dicionários e seus métodos associados:"
      ]
    },
    {
      "cell_type": "markdown",
      "metadata": {
        "id": "YeCPxCab4e4k"
      },
      "source": [
        "___\n",
        "# **EXEMPLO**\n",
        "* Os dias da semana como dicionário."
      ]
    },
    {
      "cell_type": "code",
      "metadata": {
        "id": "N_2J839X4lps",
        "outputId": "71f264b9-11bb-4d36-cbd6-f62f53b0b613",
        "colab": {
          "base_uri": "https://localhost:8080/"
        }
      },
      "source": [
        "d_dia_semana = {'Seg': 'Segunda', 'Ter': 'Terça', 'Qua': 'Quarta', 'Qui': 'Quinta', 'Sex': 'Sexta', 'Sab': 'Sabado', 'Dom': 'Domingo'}\n",
        "d_dia_semana"
      ],
      "execution_count": null,
      "outputs": [
        {
          "output_type": "execute_result",
          "data": {
            "text/plain": [
              "{'Dom': 'Domingo',\n",
              " 'Qua': 'Quarta',\n",
              " 'Qui': 'Quinta',\n",
              " 'Sab': 'Sabado',\n",
              " 'Seg': 'Segunda',\n",
              " 'Sex': 'Sexta',\n",
              " 'Ter': 'Terça'}"
            ]
          },
          "metadata": {
            "tags": []
          },
          "execution_count": 9
        }
      ]
    },
    {
      "cell_type": "markdown",
      "metadata": {
        "id": "CnZLR-VX6FV4"
      },
      "source": [
        "Observe que:\n",
        "* os itens do dicionário d_dia_semana seguem a estrutura {key: value}.\n"
      ]
    },
    {
      "cell_type": "code",
      "metadata": {
        "id": "eHuvY7BWQKhQ",
        "outputId": "87fabef2-0891-4994-a4ce-cdd1e23218b1",
        "colab": {
          "base_uri": "https://localhost:8080/",
          "height": 34
        }
      },
      "source": [
        "d_dia_semana['Seg']"
      ],
      "execution_count": null,
      "outputs": [
        {
          "output_type": "execute_result",
          "data": {
            "text/plain": [
              "'Segunda'"
            ]
          },
          "metadata": {
            "tags": []
          },
          "execution_count": 2
        }
      ]
    },
    {
      "cell_type": "markdown",
      "metadata": {
        "id": "j65BxhzGG0NA"
      },
      "source": [
        "___\n",
        "# **DECLARAR OU INICIALIZAR UM DICIONÁRIO VAZIO**"
      ]
    },
    {
      "cell_type": "markdown",
      "metadata": {
        "id": "LEGwQ0U-fKtL"
      },
      "source": [
        "Por exemplo, o comando abaixo declara um dicionário vazio chamado d_paises:"
      ]
    },
    {
      "cell_type": "code",
      "metadata": {
        "id": "2iPWXPBLfOlr",
        "outputId": "8b362b76-2b9d-47fc-b26f-8e5b7fee16d4",
        "colab": {
          "base_uri": "https://localhost:8080/"
        }
      },
      "source": [
        "d_paises = {} # Também podemos usar a função dict() para criar o dicionário vazio da seguinte forma: d_paises= dict()\n",
        "d_paises"
      ],
      "execution_count": null,
      "outputs": [
        {
          "output_type": "execute_result",
          "data": {
            "text/plain": [
              "{}"
            ]
          },
          "metadata": {
            "tags": []
          },
          "execution_count": 10
        }
      ]
    },
    {
      "cell_type": "markdown",
      "metadata": {
        "id": "vCxZv-jmG5y0"
      },
      "source": [
        "___\n",
        "# **OBTER O TIPO DO OBJETO**\n",
        "> type(d_dicionario)"
      ]
    },
    {
      "cell_type": "code",
      "metadata": {
        "id": "voPYpGIGff3o",
        "outputId": "ca9e6260-9768-4620-ccbc-e710f432c085",
        "colab": {
          "base_uri": "https://localhost:8080/"
        }
      },
      "source": [
        "type(d_paises)"
      ],
      "execution_count": null,
      "outputs": [
        {
          "output_type": "execute_result",
          "data": {
            "text/plain": [
              "dict"
            ]
          },
          "metadata": {
            "tags": []
          },
          "execution_count": 11
        }
      ]
    },
    {
      "cell_type": "markdown",
      "metadata": {
        "id": "X3MvCkFiG-UO"
      },
      "source": [
        "___\n",
        "# **ADICIONAR ITENS AO DICIONÁRIO**"
      ]
    },
    {
      "cell_type": "markdown",
      "metadata": {
        "id": "fzP8iG5xfi0H"
      },
      "source": [
        "Adicionar o valor 'Italy' à key = 1. Em outras palavras, estamos a adicionar o item {1: 'Italy'}"
      ]
    },
    {
      "cell_type": "code",
      "metadata": {
        "id": "EXZ7eEZofnza",
        "outputId": "f10f084b-f2a8-4a92-844b-0e91a04b4b2f",
        "colab": {
          "base_uri": "https://localhost:8080/"
        }
      },
      "source": [
        "d_paises[1] = 'Italy'\n",
        "d_paises"
      ],
      "execution_count": null,
      "outputs": [
        {
          "output_type": "execute_result",
          "data": {
            "text/plain": [
              "{1: 'Italy'}"
            ]
          },
          "metadata": {
            "tags": []
          },
          "execution_count": 12
        }
      ]
    },
    {
      "cell_type": "markdown",
      "metadata": {
        "id": "rH51ORGHHREE"
      },
      "source": [
        "Adicionar o valor 'Denmark' à key= 2. Em outras palavras, estamos a adicionar o item {2: 'Denmark'}"
      ]
    },
    {
      "cell_type": "code",
      "metadata": {
        "id": "GAXSzSiufv1u",
        "outputId": "c28c22e1-4696-495d-ff17-53cdcac016aa",
        "colab": {
          "base_uri": "https://localhost:8080/"
        }
      },
      "source": [
        "d_paises[2] = 'Denmark'\n",
        "d_paises"
      ],
      "execution_count": null,
      "outputs": [
        {
          "output_type": "execute_result",
          "data": {
            "text/plain": [
              "{1: 'Italy', 2: 'Denmark'}"
            ]
          },
          "metadata": {
            "tags": []
          },
          "execution_count": 13
        }
      ]
    },
    {
      "cell_type": "markdown",
      "metadata": {
        "id": "Xqdc_IYoHVVQ"
      },
      "source": [
        "Adicionar o valor 'Brazil' à key= 3. Em outras palavras, estamos a adicionar o item {3: 'Brazil'}"
      ]
    },
    {
      "cell_type": "code",
      "metadata": {
        "id": "FN7km8C9gAjM",
        "outputId": "7aabb5e4-6c6c-4923-e576-dc895641e835",
        "colab": {
          "base_uri": "https://localhost:8080/"
        }
      },
      "source": [
        "d_paises[3]= 'Brazil'\n",
        "d_paises"
      ],
      "execution_count": null,
      "outputs": [
        {
          "output_type": "execute_result",
          "data": {
            "text/plain": [
              "{1: 'Italy', 2: 'Denmark', 3: 'Brazil'}"
            ]
          },
          "metadata": {
            "tags": []
          },
          "execution_count": 14
        }
      ]
    },
    {
      "cell_type": "markdown",
      "metadata": {
        "id": "iwU8pJKRHapD"
      },
      "source": [
        "___\n",
        "# **ATUALIZAR VALORES DO DICIONÁRIO**"
      ]
    },
    {
      "cell_type": "markdown",
      "metadata": {
        "id": "CxXUV7TugLXn"
      },
      "source": [
        "O que acontece quando eu atribuo à key 3 outro valor, por exemplo, 'France'. Vamos conferir abaixo:"
      ]
    },
    {
      "cell_type": "code",
      "metadata": {
        "id": "Rr6DtJnDgU5I",
        "outputId": "0ef2527a-6d64-4e38-9383-bf7f1e37fc71",
        "colab": {
          "base_uri": "https://localhost:8080/"
        }
      },
      "source": [
        "# Adicionar o valor 'France' à key= 3\n",
        "d_paises[3]= 'France'\n",
        "d_paises"
      ],
      "execution_count": null,
      "outputs": [
        {
          "output_type": "execute_result",
          "data": {
            "text/plain": [
              "{1: 'Italy', 2: 'Denmark', 3: 'France'}"
            ]
          },
          "metadata": {
            "tags": []
          },
          "execution_count": 15
        }
      ]
    },
    {
      "cell_type": "markdown",
      "metadata": {
        "id": "xB9G1l3_ggo-"
      },
      "source": [
        "Como a key= 3 existe no dicionário d_paises, então o Python substitui o valor anterior 'Brazil' pelo novo valor, 'France'. \n",
        "\n",
        "* Lembre-se, os dicionários são mutáveis!"
      ]
    },
    {
      "cell_type": "markdown",
      "metadata": {
        "id": "T8JBxySZHiOJ"
      },
      "source": [
        "___\n",
        "# **OBTER KEYS DO DICIONÁRIO**"
      ]
    },
    {
      "cell_type": "code",
      "metadata": {
        "id": "ALwbHwi4iwky",
        "outputId": "22127834-3bd9-47d0-c05c-62809cffb8f1",
        "colab": {
          "base_uri": "https://localhost:8080/"
        }
      },
      "source": [
        "d_paises.keys()"
      ],
      "execution_count": null,
      "outputs": [
        {
          "output_type": "execute_result",
          "data": {
            "text/plain": [
              "dict_keys([1, 2, 3])"
            ]
          },
          "metadata": {
            "tags": []
          },
          "execution_count": 16
        }
      ]
    },
    {
      "cell_type": "markdown",
      "metadata": {
        "id": "FIvi0Li1Hng5"
      },
      "source": [
        "___\n",
        "# **OBTER VALORES DO DICIONÁRIO**"
      ]
    },
    {
      "cell_type": "code",
      "metadata": {
        "id": "cp0PPtl3jEKo",
        "outputId": "b1af3a75-73a2-4d7e-f79d-a38f7a5411b5",
        "colab": {
          "base_uri": "https://localhost:8080/"
        }
      },
      "source": [
        "d_paises.values()"
      ],
      "execution_count": null,
      "outputs": [
        {
          "output_type": "execute_result",
          "data": {
            "text/plain": [
              "dict_values(['Italy', 'Denmark', 'France'])"
            ]
          },
          "metadata": {
            "tags": []
          },
          "execution_count": 17
        }
      ]
    },
    {
      "cell_type": "markdown",
      "metadata": {
        "id": "JUblZBMjHrwl"
      },
      "source": [
        "___\n",
        "# **OBTER ITENS (key, value) DO DICIONÁRIO**"
      ]
    },
    {
      "cell_type": "code",
      "metadata": {
        "id": "LraTwXjdjG3m",
        "outputId": "65e77a0c-fcac-4cf3-acbd-6e7f7c7b971f",
        "colab": {
          "base_uri": "https://localhost:8080/"
        }
      },
      "source": [
        "d_paises.items()"
      ],
      "execution_count": null,
      "outputs": [
        {
          "output_type": "execute_result",
          "data": {
            "text/plain": [
              "dict_items([(1, 'Italy'), (2, 'Denmark'), (3, 'France')])"
            ]
          },
          "metadata": {
            "tags": []
          },
          "execution_count": 18
        }
      ]
    },
    {
      "cell_type": "markdown",
      "metadata": {
        "id": "IJEMg2LKHyGa"
      },
      "source": [
        "___\n",
        "# **OBTER VALOR PARA UMA KEY ESPECÍFICA**\n",
        "* d_dicionario.get(key)"
      ]
    },
    {
      "cell_type": "markdown",
      "metadata": {
        "id": "dzgBhsphjSQm"
      },
      "source": [
        "Qual o valor para key= 1?"
      ]
    },
    {
      "cell_type": "code",
      "metadata": {
        "id": "FUfTjqktjW60",
        "outputId": "678ab629-6cff-4fe1-e03f-d90709a98f26",
        "colab": {
          "base_uri": "https://localhost:8080/",
          "height": 34
        }
      },
      "source": [
        "d_paises.get(1)"
      ],
      "execution_count": null,
      "outputs": [
        {
          "output_type": "execute_result",
          "data": {
            "text/plain": [
              "'Italy'"
            ]
          },
          "metadata": {
            "tags": []
          },
          "execution_count": 11
        }
      ]
    },
    {
      "cell_type": "markdown",
      "metadata": {
        "id": "tyJ0KsloIBoD"
      },
      "source": [
        "___\n",
        "# **COPIAR DICIONÁRIO**\n",
        "* d_dicionario.copy()"
      ]
    },
    {
      "cell_type": "code",
      "metadata": {
        "id": "XL17EmvMkkky",
        "outputId": "65846bc2-87a2-42cf-eb17-e3fccb00c9a4",
        "colab": {
          "base_uri": "https://localhost:8080/",
          "height": 35
        }
      },
      "source": [
        "d_paises2 = d_paises.copy()\n",
        "d_paises2"
      ],
      "execution_count": null,
      "outputs": [
        {
          "output_type": "execute_result",
          "data": {
            "text/plain": [
              "{1: 'Italy', 2: 'Denmark', 3: 'France'}"
            ]
          },
          "metadata": {
            "tags": []
          },
          "execution_count": 28
        }
      ]
    },
    {
      "cell_type": "markdown",
      "metadata": {
        "id": "8V25l2ZoIG4B"
      },
      "source": [
        "___\n",
        "# **REMOVER TODOS OS ITENS DO DICIONÁRIO**\n",
        "* d_dicionario.clear()"
      ]
    },
    {
      "cell_type": "code",
      "metadata": {
        "id": "r-8Gs1gYjqLN"
      },
      "source": [
        "d_paises.clear()"
      ],
      "execution_count": null,
      "outputs": []
    },
    {
      "cell_type": "code",
      "metadata": {
        "id": "ro_42gzDjsdV",
        "outputId": "a2c2a25b-40ef-4842-f2f7-3ac85404d195",
        "colab": {
          "base_uri": "https://localhost:8080/",
          "height": 35
        }
      },
      "source": [
        "d_paises"
      ],
      "execution_count": null,
      "outputs": [
        {
          "output_type": "execute_result",
          "data": {
            "text/plain": [
              "{}"
            ]
          },
          "metadata": {
            "tags": []
          },
          "execution_count": 13
        }
      ]
    },
    {
      "cell_type": "markdown",
      "metadata": {
        "id": "pCzKkKoujv7G"
      },
      "source": [
        "Como esperado, removemos todos os itens do dicionário d_paises. Entretanto, o dicionário d_paises continua a existir!"
      ]
    },
    {
      "cell_type": "markdown",
      "metadata": {
        "id": "MKtPwGVsIaLQ"
      },
      "source": [
        "___\n",
        "# **DELETAR O DICIONÁRIO**\n",
        "* del d_dicionario"
      ]
    },
    {
      "cell_type": "code",
      "metadata": {
        "id": "8wvM-o7Lj7A0"
      },
      "source": [
        "del d_paises"
      ],
      "execution_count": null,
      "outputs": []
    },
    {
      "cell_type": "code",
      "metadata": {
        "id": "wK83ZURYkD_T",
        "outputId": "03254461-9939-4ef9-de30-c4b59c920674",
        "colab": {
          "base_uri": "https://localhost:8080/",
          "height": 166
        }
      },
      "source": [
        "d_paises"
      ],
      "execution_count": null,
      "outputs": [
        {
          "output_type": "error",
          "ename": "NameError",
          "evalue": "ignored",
          "traceback": [
            "\u001b[0;31m---------------------------------------------------------------------------\u001b[0m",
            "\u001b[0;31mNameError\u001b[0m                                 Traceback (most recent call last)",
            "\u001b[0;32m<ipython-input-16-4fcdb0935a3d>\u001b[0m in \u001b[0;36m<module>\u001b[0;34m()\u001b[0m\n\u001b[0;32m----> 1\u001b[0;31m \u001b[0mdCountries\u001b[0m\u001b[0;34m\u001b[0m\u001b[0;34m\u001b[0m\u001b[0m\n\u001b[0m",
            "\u001b[0;31mNameError\u001b[0m: name 'dCountries' is not defined"
          ]
        }
      ]
    },
    {
      "cell_type": "markdown",
      "metadata": {
        "id": "aSe3veUB1lo_"
      },
      "source": [
        "Como esperado, pois agora o dicionário já não existe mais. Ok?"
      ]
    },
    {
      "cell_type": "markdown",
      "metadata": {
        "id": "STtkGUvEg7d1"
      },
      "source": [
        "___\n",
        "# **ITERAR PELO DICIONÁRIO**\n",
        "* Considere o dicionário d_frutas a seguir:"
      ]
    },
    {
      "cell_type": "code",
      "metadata": {
        "id": "IG8hKSvcfalZ"
      },
      "source": [
        "# Definindo os valores iniciais do dicionário d_frutas:\n",
        "d_frutas = {'Avocado': 0.35, \n",
        "         'Apple': 0.40, \n",
        "         'Apricot': 0.25, \n",
        "         'Banana': 0.30, \n",
        "         'Blackcurrant': 0.70, \n",
        "         'Blackberry': 0.55, \n",
        "         'Blueberry': 0.45, \n",
        "         'Cherry': 0.50, \n",
        "         'Coconut': 0.75, \n",
        "         'Fig': 0.60, \n",
        "         'Grape': 0.65, \n",
        "         'Kiwi': 0.20, \n",
        "         'Lemon': 0.15, \n",
        "         'Mango': 0.80, \n",
        "         'Nectarine': 0.75, \n",
        "         'Orange': 0.25, \n",
        "         'Papaya': 0.30,\n",
        "         'Passion Fruit': 0.45,\n",
        "         'Peach': 0.55,\n",
        "         'Pineapple': 0.55,\n",
        "         'Plum': 0.60,\n",
        "         'Raspberry': 0.40,\n",
        "         'Strawberry': 0.50,\n",
        "         'Watermelon': 0.45}"
      ],
      "execution_count": null,
      "outputs": []
    },
    {
      "cell_type": "markdown",
      "metadata": {
        "id": "ppRkK_jJJG6W"
      },
      "source": [
        "Mostrando os itens do dicionário d_frutas:"
      ]
    },
    {
      "cell_type": "code",
      "metadata": {
        "id": "bI7Ctf0ohyz8",
        "outputId": "5af38cf4-aaf8-4efa-f682-502bfb5022a6",
        "colab": {
          "base_uri": "https://localhost:8080/",
          "height": 425
        }
      },
      "source": [
        "d_frutas"
      ],
      "execution_count": null,
      "outputs": [
        {
          "output_type": "execute_result",
          "data": {
            "text/plain": [
              "{'Apple': 0.4,\n",
              " 'Apricot': 0.25,\n",
              " 'Avocado': 0.35,\n",
              " 'Banana': 0.3,\n",
              " 'Blackberry': 0.55,\n",
              " 'Blackcurrant': 0.7,\n",
              " 'Blueberry': 0.45,\n",
              " 'Cherry': 0.5,\n",
              " 'Coconut': 0.75,\n",
              " 'Fig': 0.6,\n",
              " 'Grape': 0.65,\n",
              " 'Kiwi': 0.2,\n",
              " 'Lemon': 0.15,\n",
              " 'Mango': 0.8,\n",
              " 'Nectarine': 0.75,\n",
              " 'Orange': 0.25,\n",
              " 'Papaya': 0.3,\n",
              " 'Passion Fruit': 0.45,\n",
              " 'Peach': 0.55,\n",
              " 'Pineapple': 0.55,\n",
              " 'Plum': 0.6,\n",
              " 'Raspberry': 0.4,\n",
              " 'Strawberry': 0.5,\n",
              " 'Watermelon': 0.45}"
            ]
          },
          "metadata": {
            "tags": []
          },
          "execution_count": 8
        }
      ]
    },
    {
      "cell_type": "markdown",
      "metadata": {
        "id": "wXFfyiyPtD35"
      },
      "source": [
        "Qual o valor para a fruta 'Apple'? Para responder à esta pergunta, basta lembrar que 'Apple' é uma key do dicionário d_frutas. Certo?"
      ]
    },
    {
      "cell_type": "code",
      "metadata": {
        "id": "JpreyE_LtCcU",
        "outputId": "cee4be2d-7980-4a3d-85fb-17561d1bb1ff",
        "colab": {
          "base_uri": "https://localhost:8080/",
          "height": 34
        }
      },
      "source": [
        "d_frutas['Apple']"
      ],
      "execution_count": null,
      "outputs": [
        {
          "output_type": "execute_result",
          "data": {
            "text/plain": [
              "0.4"
            ]
          },
          "metadata": {
            "tags": []
          },
          "execution_count": 21
        }
      ]
    },
    {
      "cell_type": "markdown",
      "metadata": {
        "id": "JBMf8SbAJmiq"
      },
      "source": [
        "## Iterar pelas keys do dicionário:"
      ]
    },
    {
      "cell_type": "code",
      "metadata": {
        "id": "rMro_tY8kepo",
        "outputId": "4488c243-6792-4efa-b271-e546270b129d",
        "colab": {
          "base_uri": "https://localhost:8080/",
          "height": 425
        }
      },
      "source": [
        "for key in d_frutas.keys():\n",
        "    print(key)"
      ],
      "execution_count": null,
      "outputs": [
        {
          "output_type": "stream",
          "text": [
            "Avocado\n",
            "Apple\n",
            "Apricot\n",
            "Banana\n",
            "Blackcurrant\n",
            "Blackberry\n",
            "Blueberry\n",
            "Cherry\n",
            "Coconut\n",
            "Fig\n",
            "Grape\n",
            "Kiwi\n",
            "Lemon\n",
            "Mango\n",
            "Nectarine\n",
            "Orange\n",
            "Papaya\n",
            "Passion Fruit\n",
            "Peach\n",
            "Pineapple\n",
            "Plum\n",
            "Raspberry\n",
            "Strawberry\n",
            "Watermelon\n"
          ],
          "name": "stdout"
        }
      ]
    },
    {
      "cell_type": "markdown",
      "metadata": {
        "id": "yDkOLvRFJxco"
      },
      "source": [
        "## Iterar pelos itens (key, value) do dicionário"
      ]
    },
    {
      "cell_type": "code",
      "metadata": {
        "id": "DpFB1g-3kDSt",
        "outputId": "01d43d9e-e4cd-48a6-8be5-847134ad1a70",
        "colab": {
          "base_uri": "https://localhost:8080/"
        }
      },
      "source": [
        "for item in d_frutas.items():\n",
        "    print(item)"
      ],
      "execution_count": null,
      "outputs": [
        {
          "output_type": "stream",
          "text": [
            "('Avocado', 0.35)\n",
            "('Apple', 0.4)\n",
            "('Apricot', 0.25)\n",
            "('Banana', 0.3)\n",
            "('Blackcurrant', 0.7)\n",
            "('Blackberry', 0.55)\n",
            "('Blueberry', 0.45)\n",
            "('Cherry', 0.5)\n",
            "('Coconut', 0.75)\n",
            "('Fig', 0.6)\n",
            "('Grape', 0.65)\n",
            "('Kiwi', 0.2)\n",
            "('Lemon', 0.15)\n",
            "('Mango', 0.8)\n",
            "('Nectarine', 0.75)\n",
            "('Orange', 0.25)\n",
            "('Papaya', 0.3)\n",
            "('Passion Fruit', 0.45)\n",
            "('Peach', 0.55)\n",
            "('Pineapple', 0.55)\n",
            "('Plum', 0.6)\n",
            "('Raspberry', 0.4)\n",
            "('Strawberry', 0.5)\n",
            "('Watermelon', 0.45)\n"
          ],
          "name": "stdout"
        }
      ]
    },
    {
      "cell_type": "markdown",
      "metadata": {
        "id": "8z6qO74fJ6Q1"
      },
      "source": [
        "## Iterar pelos valores do dicionário"
      ]
    },
    {
      "cell_type": "code",
      "metadata": {
        "id": "tjJ6qRF8nr4v",
        "outputId": "8dbd1c67-c8a2-411c-9350-ef156539df22",
        "colab": {
          "base_uri": "https://localhost:8080/"
        }
      },
      "source": [
        "for value in d_frutas.values():\n",
        "    print(value)"
      ],
      "execution_count": null,
      "outputs": [
        {
          "output_type": "stream",
          "text": [
            "0.35\n",
            "0.4\n",
            "0.25\n",
            "0.3\n",
            "0.7\n",
            "0.55\n",
            "0.45\n",
            "0.5\n",
            "0.75\n",
            "0.6\n",
            "0.65\n",
            "0.2\n",
            "0.15\n",
            "0.8\n",
            "0.75\n",
            "0.25\n",
            "0.3\n",
            "0.45\n",
            "0.55\n",
            "0.55\n",
            "0.6\n",
            "0.4\n",
            "0.5\n",
            "0.45\n"
          ],
          "name": "stdout"
        }
      ]
    },
    {
      "cell_type": "markdown",
      "metadata": {
        "id": "-LmEUroVKDUA"
      },
      "source": [
        "## Iterar pela key e valor do dicionário"
      ]
    },
    {
      "cell_type": "code",
      "metadata": {
        "id": "oRhZ_Zq9oQIg",
        "outputId": "08f48d20-163d-43d9-8d75-6d54c423b045",
        "colab": {
          "base_uri": "https://localhost:8080/"
        }
      },
      "source": [
        "for key, value in d_frutas.items():\n",
        "    print(\"%s --> %s\" %(key, value))"
      ],
      "execution_count": null,
      "outputs": [
        {
          "output_type": "stream",
          "text": [
            "Avocado --> 0.35\n",
            "Apple --> 0.4\n",
            "Apricot --> 0.25\n",
            "Banana --> 0.3\n",
            "Blackcurrant --> 0.7\n",
            "Blackberry --> 0.55\n",
            "Blueberry --> 0.45\n",
            "Cherry --> 0.5\n",
            "Coconut --> 0.75\n",
            "Fig --> 0.6\n",
            "Grape --> 0.65\n",
            "Kiwi --> 0.2\n",
            "Lemon --> 0.15\n",
            "Mango --> 0.8\n",
            "Nectarine --> 0.75\n",
            "Orange --> 0.25\n",
            "Papaya --> 0.3\n",
            "Passion Fruit --> 0.45\n",
            "Peach --> 0.55\n",
            "Pineapple --> 0.55\n",
            "Plum --> 0.6\n",
            "Raspberry --> 0.4\n",
            "Strawberry --> 0.5\n",
            "Watermelon --> 0.45\n"
          ],
          "name": "stdout"
        }
      ]
    },
    {
      "cell_type": "markdown",
      "metadata": {
        "id": "Fotx7XUquAo8"
      },
      "source": [
        "___\n",
        "# **VERIFICAR SE UMA KEY ESPECÍFICA PERTENCE AO DICIONÁRIO**"
      ]
    },
    {
      "cell_type": "markdown",
      "metadata": {
        "id": "ju__WsSoKXtk"
      },
      "source": [
        "A fruta 'Apple' (que em nosso caso, é uma key) existe no dicionário?"
      ]
    },
    {
      "cell_type": "code",
      "metadata": {
        "id": "-gkEKNZPTeMp",
        "outputId": "0f77c9a7-cc30-46da-eee0-061f884efce3",
        "colab": {
          "base_uri": "https://localhost:8080/"
        }
      },
      "source": [
        "'Apple' in d_frutas.keys()"
      ],
      "execution_count": null,
      "outputs": [
        {
          "output_type": "execute_result",
          "data": {
            "text/plain": [
              "True"
            ]
          },
          "metadata": {
            "tags": []
          },
          "execution_count": 22
        }
      ]
    },
    {
      "cell_type": "markdown",
      "metadata": {
        "id": "fMzBeFMIusv7"
      },
      "source": [
        "A fruta 'Coconut' pertence ao dicionário d_frutas?"
      ]
    },
    {
      "cell_type": "code",
      "metadata": {
        "id": "SKtEwmBCuxyi",
        "outputId": "a714a83a-1928-4852-8b03-3b7fcfafcebe",
        "colab": {
          "base_uri": "https://localhost:8080/"
        }
      },
      "source": [
        "'Coconut' in d_frutas.keys()"
      ],
      "execution_count": null,
      "outputs": [
        {
          "output_type": "execute_result",
          "data": {
            "text/plain": [
              "True"
            ]
          },
          "metadata": {
            "tags": []
          },
          "execution_count": 24
        }
      ]
    },
    {
      "cell_type": "markdown",
      "metadata": {
        "id": "rrH8ArqsK6Bd"
      },
      "source": [
        "___\n",
        "# **VERIFICAR SE VALOR PERTENCE AO DICIONÁRIO**"
      ]
    },
    {
      "cell_type": "code",
      "metadata": {
        "id": "DbWpbuLTK9sn",
        "outputId": "a771e686-873e-44ca-a8ac-1910e24e67d7",
        "colab": {
          "base_uri": "https://localhost:8080/"
        }
      },
      "source": [
        "0.4 in d_frutas.values()"
      ],
      "execution_count": null,
      "outputs": [
        {
          "output_type": "execute_result",
          "data": {
            "text/plain": [
              "True"
            ]
          },
          "metadata": {
            "tags": []
          },
          "execution_count": 25
        }
      ]
    },
    {
      "cell_type": "markdown",
      "metadata": {
        "id": "36kmLUYDvsUI"
      },
      "source": [
        "## Adicionar novos itens ao dicionário\n",
        "* Considere o dicionário d_frutas2 abaixo:"
      ]
    },
    {
      "cell_type": "code",
      "metadata": {
        "id": "5Rwq4-UG4--u",
        "outputId": "796e65cb-e38b-4012-c2c1-7942ef47939c",
        "colab": {
          "base_uri": "https://localhost:8080/"
        }
      },
      "source": [
        "d_frutas2 = {'Grapefruit': 1.0 }\n",
        "d_frutas2"
      ],
      "execution_count": null,
      "outputs": [
        {
          "output_type": "execute_result",
          "data": {
            "text/plain": [
              "{'Grapefruit': 1.0}"
            ]
          },
          "metadata": {
            "tags": []
          },
          "execution_count": 31
        }
      ]
    },
    {
      "cell_type": "markdown",
      "metadata": {
        "id": "vljceM6_5H9o"
      },
      "source": [
        "O comando abaixo adiciona o dicionário d_frutas2 ao dicionário d_frutas."
      ]
    },
    {
      "cell_type": "code",
      "metadata": {
        "id": "7BD_mYMM5O5o",
        "outputId": "afb30365-4419-4dee-8cda-f6a788f71908",
        "colab": {
          "base_uri": "https://localhost:8080/"
        }
      },
      "source": [
        "d_frutas.update(d_frutas2)\n",
        "d_frutas"
      ],
      "execution_count": null,
      "outputs": [
        {
          "output_type": "execute_result",
          "data": {
            "text/plain": [
              "{'Apple': 0.7,\n",
              " 'Apricot': 0.25,\n",
              " 'Avocado': 0.35,\n",
              " 'Banana': 0.3,\n",
              " 'Blackberry': 0.55,\n",
              " 'Blackcurrant': 0.7,\n",
              " 'Blueberry': 0.45,\n",
              " 'Cherry': 0.5,\n",
              " 'Coconut': 0.75,\n",
              " 'Fig': 0.6,\n",
              " 'Grape': 0.65,\n",
              " 'Grapefruit': 1.0,\n",
              " 'Kiwi': 0.2,\n",
              " 'Lemon': 0.15,\n",
              " 'Mango': 0.8,\n",
              " 'Nectarine': 0.75,\n",
              " 'Orange': 0.25,\n",
              " 'Papaya': 0.3,\n",
              " 'Passion Fruit': 0.45,\n",
              " 'Peach': 0.55,\n",
              " 'Pineapple': 0.55,\n",
              " 'Plum': 0.6,\n",
              " 'Raspberry': 0.4,\n",
              " 'Strawberry': 0.5,\n",
              " 'Watermelon': 0.45}"
            ]
          },
          "metadata": {
            "tags": []
          },
          "execution_count": 32
        }
      ]
    },
    {
      "cell_type": "markdown",
      "metadata": {
        "id": "ffh-94lo55n4"
      },
      "source": [
        "Agora, considere o dicionário d_frutas3 abaixo:"
      ]
    },
    {
      "cell_type": "code",
      "metadata": {
        "id": "JMAq_jbP5---"
      },
      "source": [
        "d_frutas3 = {'Apple': 0.70}"
      ],
      "execution_count": null,
      "outputs": []
    },
    {
      "cell_type": "markdown",
      "metadata": {
        "id": "Jd6B2cy-6KmY"
      },
      "source": [
        "Qual o resultado do comando abaixo?\n",
        "\n",
        "* Atenção: A fruta 'Apple' (é uma key do dicionário d_frutas) tem valor 0.40. E no dicionário d_frutas3 a fruta 'Apple' tem valor 0.70."
      ]
    },
    {
      "cell_type": "code",
      "metadata": {
        "id": "E4GKdTw76PXI",
        "outputId": "36e14418-58d7-40d9-ee4c-2b984c62fbbd",
        "colab": {
          "base_uri": "https://localhost:8080/"
        }
      },
      "source": [
        "d_frutas.update(d_frutas3)\n",
        "d_frutas"
      ],
      "execution_count": null,
      "outputs": [
        {
          "output_type": "execute_result",
          "data": {
            "text/plain": [
              "{'Apple': 0.7,\n",
              " 'Apricot': 0.25,\n",
              " 'Avocado': 0.35,\n",
              " 'Banana': 0.3,\n",
              " 'Blackberry': 0.55,\n",
              " 'Blackcurrant': 0.7,\n",
              " 'Blueberry': 0.45,\n",
              " 'Cherry': 0.5,\n",
              " 'Coconut': 0.75,\n",
              " 'Fig': 0.6,\n",
              " 'Grape': 0.65,\n",
              " 'Grapefruit': 1.0,\n",
              " 'Kiwi': 0.2,\n",
              " 'Lemon': 0.15,\n",
              " 'Mango': 0.8,\n",
              " 'Nectarine': 0.75,\n",
              " 'Orange': 0.25,\n",
              " 'Papaya': 0.3,\n",
              " 'Passion Fruit': 0.45,\n",
              " 'Peach': 0.55,\n",
              " 'Pineapple': 0.55,\n",
              " 'Plum': 0.6,\n",
              " 'Raspberry': 0.4,\n",
              " 'Strawberry': 0.5,\n",
              " 'Watermelon': 0.45}"
            ]
          },
          "metadata": {
            "tags": []
          },
          "execution_count": 34
        }
      ]
    },
    {
      "cell_type": "markdown",
      "metadata": {
        "id": "HMmDfrln6o0c"
      },
      "source": [
        "Como esperado, como key= 'Apple' existe no dicionário d_frutas, então o Python atualizou o valor de key= 'Apple' para 0.70."
      ]
    },
    {
      "cell_type": "markdown",
      "metadata": {
        "id": "SWO2GdNovxAp"
      },
      "source": [
        "## Modificar keys e valores"
      ]
    },
    {
      "cell_type": "markdown",
      "metadata": {
        "id": "DX9UTy4TwlAw"
      },
      "source": [
        "Suponha que queremos aplicar um desconto de 10% para cada fruta do nosso dicionário.\n",
        "\n",
        "* Como fazemos isso?"
      ]
    },
    {
      "cell_type": "code",
      "metadata": {
        "id": "ZziGmKGmwqwn"
      },
      "source": [
        "for key, value in d_frutas.items():\n",
        "    d_frutas[key] = round(value * 0.9, 2)"
      ],
      "execution_count": null,
      "outputs": []
    },
    {
      "cell_type": "markdown",
      "metadata": {
        "id": "s1B-yN8lM-C1"
      },
      "source": [
        "Mostra d_frutas com os valores atualizados:"
      ]
    },
    {
      "cell_type": "code",
      "metadata": {
        "id": "zZLa85knxBtY",
        "outputId": "9879b34f-8ede-4e09-e05c-c15a7b59319a",
        "colab": {
          "base_uri": "https://localhost:8080/"
        }
      },
      "source": [
        "d_frutas"
      ],
      "execution_count": null,
      "outputs": [
        {
          "output_type": "execute_result",
          "data": {
            "text/plain": [
              "{'Apple': 0.57,\n",
              " 'Apricot': 0.21,\n",
              " 'Avocado': 0.29,\n",
              " 'Banana': 0.24,\n",
              " 'Blackberry': 0.45,\n",
              " 'Blackcurrant': 0.57,\n",
              " 'Blueberry': 0.37,\n",
              " 'Cherry': 0.41,\n",
              " 'Coconut': 0.61,\n",
              " 'Fig': 0.49,\n",
              " 'Grape': 0.53,\n",
              " 'Grapefruit': 0.81,\n",
              " 'Kiwi': 0.16,\n",
              " 'Lemon': 0.13,\n",
              " 'Mango': 0.65,\n",
              " 'Nectarine': 0.61,\n",
              " 'Orange': 0.21,\n",
              " 'Papaya': 0.24,\n",
              " 'Passion Fruit': 0.37,\n",
              " 'Peach': 0.45,\n",
              " 'Pineapple': 0.45,\n",
              " 'Plum': 0.49,\n",
              " 'Raspberry': 0.32,\n",
              " 'Strawberry': 0.41,\n",
              " 'Watermelon': 0.37}"
            ]
          },
          "metadata": {
            "tags": []
          },
          "execution_count": 38
        }
      ]
    },
    {
      "cell_type": "markdown",
      "metadata": {
        "id": "vpN54l4vxze5"
      },
      "source": [
        "## Deletar keys do dicionário\n",
        "* Deletar uma key significa deletar todo o item {key: value}, ok?"
      ]
    },
    {
      "cell_type": "markdown",
      "metadata": {
        "id": "eDlthLStNIwR"
      },
      "source": [
        "Suponha que queremos deletar a fruta 'Avocado' do dicionário d_frutas.\n",
        "\n",
        "* Como fazer isso?"
      ]
    },
    {
      "cell_type": "code",
      "metadata": {
        "id": "fnpzHZU_x5Y1",
        "outputId": "f96e9475-9814-4d77-e76d-493ae36851a7",
        "colab": {
          "base_uri": "https://localhost:8080/"
        }
      },
      "source": [
        "for key in list(d_frutas.keys()):  # Dica: use a função list para melhorar a performance computacional\n",
        "    if key == 'Avocado':\n",
        "        del d_frutas[key]  # Deleta key = 'Avocado'\n",
        "d_frutas"
      ],
      "execution_count": null,
      "outputs": [
        {
          "output_type": "execute_result",
          "data": {
            "text/plain": [
              "{'Apple': 0.57,\n",
              " 'Apricot': 0.21,\n",
              " 'Banana': 0.24,\n",
              " 'Blackberry': 0.45,\n",
              " 'Blackcurrant': 0.57,\n",
              " 'Blueberry': 0.37,\n",
              " 'Cherry': 0.41,\n",
              " 'Coconut': 0.61,\n",
              " 'Fig': 0.49,\n",
              " 'Grape': 0.53,\n",
              " 'Grapefruit': 0.81,\n",
              " 'Kiwi': 0.16,\n",
              " 'Lemon': 0.13,\n",
              " 'Mango': 0.65,\n",
              " 'Nectarine': 0.61,\n",
              " 'Orange': 0.21,\n",
              " 'Papaya': 0.24,\n",
              " 'Passion Fruit': 0.37,\n",
              " 'Peach': 0.45,\n",
              " 'Pineapple': 0.45,\n",
              " 'Plum': 0.49,\n",
              " 'Raspberry': 0.32,\n",
              " 'Strawberry': 0.41,\n",
              " 'Watermelon': 0.37}"
            ]
          },
          "metadata": {
            "tags": []
          },
          "execution_count": 44
        }
      ]
    },
    {
      "cell_type": "markdown",
      "metadata": {
        "id": "VyPUrobONqvI"
      },
      "source": [
        "Mostra o dicionário d_frutas atualizado:"
      ]
    },
    {
      "cell_type": "code",
      "metadata": {
        "id": "IwnsHejhyT4l",
        "outputId": "b910699c-9729-4a27-bd78-3a283c82ac39",
        "colab": {
          "base_uri": "https://localhost:8080/",
          "height": 425
        }
      },
      "source": [
        "d_frutas"
      ],
      "execution_count": null,
      "outputs": [
        {
          "output_type": "execute_result",
          "data": {
            "text/plain": [
              "{'Apple': 0.63,\n",
              " 'Apricot': 0.23,\n",
              " 'Banana': 0.27,\n",
              " 'Blackberry': 0.5,\n",
              " 'Blackcurrant': 0.63,\n",
              " 'Blueberry': 0.41,\n",
              " 'Cherry': 0.45,\n",
              " 'Coconut': 0.68,\n",
              " 'Fig': 0.54,\n",
              " 'Grape': 0.59,\n",
              " 'Grapefruit': 0.9,\n",
              " 'Kiwi': 0.18,\n",
              " 'Lemon': 0.14,\n",
              " 'Mango': 0.72,\n",
              " 'Nectarine': 0.68,\n",
              " 'Orange': 0.23,\n",
              " 'Papaya': 0.27,\n",
              " 'Passion Fruit': 0.41,\n",
              " 'Peach': 0.5,\n",
              " 'Pineapple': 0.5,\n",
              " 'Plum': 0.54,\n",
              " 'Raspberry': 0.36,\n",
              " 'Strawberry': 0.45,\n",
              " 'Watermelon': 0.41}"
            ]
          },
          "metadata": {
            "tags": []
          },
          "execution_count": 86
        }
      ]
    },
    {
      "cell_type": "markdown",
      "metadata": {
        "id": "u4HOf9SNytSq"
      },
      "source": [
        "## Filtrar/Selecionar itens baseado em condições\n",
        "Em algumas situações você vai querer filtrar os itens do dicionário que satisfaçam alguma(s) condições.\n",
        "\n",
        "* Considere o exemplo a seguir: queremos selecionar/filtrar somente as frutas com preços maiores que 0.4."
      ]
    },
    {
      "cell_type": "code",
      "metadata": {
        "id": "EwqxWiVlyvgH",
        "outputId": "f07e9337-6b58-47ca-817b-8268c3cdd27e",
        "colab": {
          "base_uri": "https://localhost:8080/"
        }
      },
      "source": [
        "d_frutas_filtro = {}\n",
        "for key, value in d_frutas.items():\n",
        "    if value > 0.5:\n",
        "        d_frutas_filtro.update({key: value})\n",
        "\n",
        "d_frutas_filtro"
      ],
      "execution_count": null,
      "outputs": [
        {
          "output_type": "execute_result",
          "data": {
            "text/plain": [
              "{'Apple': 0.57,\n",
              " 'Blackcurrant': 0.57,\n",
              " 'Coconut': 0.61,\n",
              " 'Grape': 0.53,\n",
              " 'Grapefruit': 0.81,\n",
              " 'Mango': 0.65,\n",
              " 'Nectarine': 0.61}"
            ]
          },
          "metadata": {
            "tags": []
          },
          "execution_count": 46
        }
      ]
    },
    {
      "cell_type": "markdown",
      "metadata": {
        "id": "eb0jmAKWOtYt"
      },
      "source": [
        "Mostra o resultado do dicionário d_frutas_Selected:"
      ]
    },
    {
      "cell_type": "code",
      "metadata": {
        "id": "SsStWM5k1s-Q",
        "outputId": "f6af5b61-2333-41c7-a28a-0f6a67b0a949",
        "colab": {
          "base_uri": "https://localhost:8080/",
          "height": 170
        }
      },
      "source": [
        "d_frutas_filtro"
      ],
      "execution_count": null,
      "outputs": [
        {
          "output_type": "execute_result",
          "data": {
            "text/plain": [
              "{'Apple': 0.63,\n",
              " 'Blackcurrant': 0.63,\n",
              " 'Coconut': 0.68,\n",
              " 'Fig': 0.54,\n",
              " 'Grape': 0.59,\n",
              " 'Grapefruit': 0.9,\n",
              " 'Mango': 0.72,\n",
              " 'Nectarine': 0.68,\n",
              " 'Plum': 0.54}"
            ]
          },
          "metadata": {
            "tags": []
          },
          "execution_count": 89
        }
      ]
    },
    {
      "cell_type": "markdown",
      "metadata": {
        "id": "u1ve6xIGOjrE"
      },
      "source": [
        " Como se pode ver, somente a fruta 'Blackberry' satifaz esta condição."
      ]
    },
    {
      "cell_type": "markdown",
      "metadata": {
        "id": "KJqpPrfkCk9L"
      },
      "source": [
        "## Cálculos com os itens do dicionário"
      ]
    },
    {
      "cell_type": "code",
      "metadata": {
        "id": "exD8HXodCqg6"
      },
      "source": [
        "from collections import Counter"
      ],
      "execution_count": null,
      "outputs": []
    },
    {
      "cell_type": "markdown",
      "metadata": {
        "id": "llCLTysdCuwB"
      },
      "source": [
        "Somando os valores de todas as frutas"
      ]
    },
    {
      "cell_type": "code",
      "metadata": {
        "id": "uG0VP1MNCroX",
        "outputId": "70673379-8a78-4037-b6be-23c7c022f878",
        "colab": {
          "base_uri": "https://localhost:8080/"
        }
      },
      "source": [
        "sum(d_frutas.values())"
      ],
      "execution_count": null,
      "outputs": [
        {
          "output_type": "execute_result",
          "data": {
            "text/plain": [
              "10.120000000000001"
            ]
          },
          "metadata": {
            "tags": []
          },
          "execution_count": 48
        }
      ]
    },
    {
      "cell_type": "markdown",
      "metadata": {
        "id": "a5MBNCF-C5-4"
      },
      "source": [
        "Quantos itens existem no dicionário:"
      ]
    },
    {
      "cell_type": "code",
      "metadata": {
        "id": "AkvygR0PC9bT",
        "outputId": "c75c9ab7-498d-4f2f-d427-1e5a6afb2cb9",
        "colab": {
          "base_uri": "https://localhost:8080/"
        }
      },
      "source": [
        "len(list(d_frutas))"
      ],
      "execution_count": null,
      "outputs": [
        {
          "output_type": "execute_result",
          "data": {
            "text/plain": [
              "24"
            ]
          },
          "metadata": {
            "tags": []
          },
          "execution_count": 49
        }
      ]
    },
    {
      "cell_type": "markdown",
      "metadata": {
        "id": "xBNFaklq8OC9"
      },
      "source": [
        "## Sortear itens do dicionário - sorted(d_dicionario.items(), reverse= True/False)"
      ]
    },
    {
      "cell_type": "markdown",
      "metadata": {
        "id": "WULJMjHA-mal"
      },
      "source": [
        "Ordem alfabética (por key):"
      ]
    },
    {
      "cell_type": "code",
      "metadata": {
        "id": "SH0WIKZ8-Ylr",
        "outputId": "90393c9e-b519-4ba2-f68c-deba8483bc19",
        "colab": {
          "base_uri": "https://localhost:8080/"
        }
      },
      "source": [
        "d_frutas_ordenadas = sorted(d_frutas.items(), reverse = False)\n",
        "d_frutas_ordenadas"
      ],
      "execution_count": null,
      "outputs": [
        {
          "output_type": "execute_result",
          "data": {
            "text/plain": [
              "[('Apple', 0.57),\n",
              " ('Apricot', 0.21),\n",
              " ('Banana', 0.24),\n",
              " ('Blackberry', 0.45),\n",
              " ('Blackcurrant', 0.57),\n",
              " ('Blueberry', 0.37),\n",
              " ('Cherry', 0.41),\n",
              " ('Coconut', 0.61),\n",
              " ('Fig', 0.49),\n",
              " ('Grape', 0.53),\n",
              " ('Grapefruit', 0.81),\n",
              " ('Kiwi', 0.16),\n",
              " ('Lemon', 0.13),\n",
              " ('Mango', 0.65),\n",
              " ('Nectarine', 0.61),\n",
              " ('Orange', 0.21),\n",
              " ('Papaya', 0.24),\n",
              " ('Passion Fruit', 0.37),\n",
              " ('Peach', 0.45),\n",
              " ('Pineapple', 0.45),\n",
              " ('Plum', 0.49),\n",
              " ('Raspberry', 0.32),\n",
              " ('Strawberry', 0.41),\n",
              " ('Watermelon', 0.37)]"
            ]
          },
          "metadata": {
            "tags": []
          },
          "execution_count": 50
        }
      ]
    },
    {
      "cell_type": "markdown",
      "metadata": {
        "id": "T4Li1Q2d-pnZ"
      },
      "source": [
        "Ordem reversa (por key):"
      ]
    },
    {
      "cell_type": "code",
      "metadata": {
        "id": "PoBOmfpM_A_a",
        "outputId": "53746942-84c6-4ae0-e12e-48ca574a4808",
        "colab": {
          "base_uri": "https://localhost:8080/"
        }
      },
      "source": [
        "d_frutas_ordenadas_reverse = sorted(d_frutas.items(), reverse = True)\n",
        "d_frutas_ordenadas_reverse"
      ],
      "execution_count": null,
      "outputs": [
        {
          "output_type": "execute_result",
          "data": {
            "text/plain": [
              "[('Watermelon', 0.37),\n",
              " ('Strawberry', 0.41),\n",
              " ('Raspberry', 0.32),\n",
              " ('Plum', 0.49),\n",
              " ('Pineapple', 0.45),\n",
              " ('Peach', 0.45),\n",
              " ('Passion Fruit', 0.37),\n",
              " ('Papaya', 0.24),\n",
              " ('Orange', 0.21),\n",
              " ('Nectarine', 0.61),\n",
              " ('Mango', 0.65),\n",
              " ('Lemon', 0.13),\n",
              " ('Kiwi', 0.16),\n",
              " ('Grapefruit', 0.81),\n",
              " ('Grape', 0.53),\n",
              " ('Fig', 0.49),\n",
              " ('Coconut', 0.61),\n",
              " ('Cherry', 0.41),\n",
              " ('Blueberry', 0.37),\n",
              " ('Blackcurrant', 0.57),\n",
              " ('Blackberry', 0.45),\n",
              " ('Banana', 0.24),\n",
              " ('Apricot', 0.21),\n",
              " ('Apple', 0.57)]"
            ]
          },
          "metadata": {
            "tags": []
          },
          "execution_count": 51
        }
      ]
    },
    {
      "cell_type": "markdown",
      "metadata": {
        "id": "FxTC2-U88ajk"
      },
      "source": [
        "## Função filter()\n",
        "* A função filter() aplica um filtro no dicionário, retornando apenas os itens que satisfaz as condições do filtro."
      ]
    },
    {
      "cell_type": "code",
      "metadata": {
        "id": "iJq1clvOHVG2",
        "outputId": "16a779ef-48c9-497c-8c7c-a1612aa9aa03",
        "colab": {
          "base_uri": "https://localhost:8080/",
          "height": 425
        }
      },
      "source": [
        "d_frutas"
      ],
      "execution_count": null,
      "outputs": [
        {
          "output_type": "execute_result",
          "data": {
            "text/plain": [
              "{'Apple': 0.4,\n",
              " 'Apricot': 0.25,\n",
              " 'Avocado': 0.35,\n",
              " 'Banana': 0.3,\n",
              " 'Blackberry': 0.55,\n",
              " 'Blackcurrant': 0.7,\n",
              " 'Blueberry': 0.45,\n",
              " 'Cherry': 0.5,\n",
              " 'Coconut': 0.75,\n",
              " 'Fig': 0.6,\n",
              " 'Grape': 0.65,\n",
              " 'Kiwi': 0.2,\n",
              " 'Lemon': 0.15,\n",
              " 'Mango': 0.8,\n",
              " 'Nectarine': 0.75,\n",
              " 'Orange': 0.25,\n",
              " 'Papaya': 0.3,\n",
              " 'Passion Fruit': 0.45,\n",
              " 'Peach': 0.55,\n",
              " 'Pineapple': 0.55,\n",
              " 'Plum': 0.6,\n",
              " 'Raspberry': 0.4,\n",
              " 'Strawberry': 0.5,\n",
              " 'Watermelon': 0.45}"
            ]
          },
          "metadata": {
            "tags": []
          },
          "execution_count": 2
        }
      ]
    },
    {
      "cell_type": "markdown",
      "metadata": {
        "id": "qtTKvNeJNycl"
      },
      "source": [
        "### Filtrando por key:"
      ]
    },
    {
      "cell_type": "code",
      "metadata": {
        "id": "uIDW5FhwAiSs",
        "outputId": "82f5dbc4-1c4b-4eff-fc90-b729c9801fef",
        "colab": {
          "base_uri": "https://localhost:8080/"
        }
      },
      "source": [
        "d_frutas2 = {k: v for k, v in filter(lambda t: t[0] == 'Apple', d_frutas.items())}\n",
        "d_frutas2"
      ],
      "execution_count": null,
      "outputs": [
        {
          "output_type": "execute_result",
          "data": {
            "text/plain": [
              "{'Apple': 0.57}"
            ]
          },
          "metadata": {
            "tags": []
          },
          "execution_count": 53
        }
      ]
    },
    {
      "cell_type": "markdown",
      "metadata": {
        "id": "nUMGIzxeNt_U"
      },
      "source": [
        "### Filtrando por valor:"
      ]
    },
    {
      "cell_type": "code",
      "metadata": {
        "id": "tvHcQatANltL",
        "outputId": "8d9dc93d-1b6c-4ae3-ec09-4e7bf5b16716",
        "colab": {
          "base_uri": "https://localhost:8080/"
        }
      },
      "source": [
        "d_frutas3 = {k: v for k, v in filter(lambda t: t[1] > 0.5, d_frutas.items())}\n",
        "d_frutas3"
      ],
      "execution_count": null,
      "outputs": [
        {
          "output_type": "execute_result",
          "data": {
            "text/plain": [
              "{'Apple': 0.57,\n",
              " 'Blackcurrant': 0.57,\n",
              " 'Coconut': 0.61,\n",
              " 'Grape': 0.53,\n",
              " 'Grapefruit': 0.81,\n",
              " 'Mango': 0.65,\n",
              " 'Nectarine': 0.61}"
            ]
          },
          "metadata": {
            "tags": []
          },
          "execution_count": 54
        }
      ]
    },
    {
      "cell_type": "markdown",
      "metadata": {
        "id": "qA_XhCdmA6Gn"
      },
      "source": [
        "___\n",
        "# **EXERCÍCIOS**"
      ]
    },
    {
      "cell_type": "markdown",
      "metadata": {
        "id": "RSpyl_URgNyE"
      },
      "source": [
        "## Exercício 1\n",
        "* É possível sortear os itens de um dicionário? Explique sua resposta."
      ]
    },
    {
      "cell_type": "code",
      "metadata": {
        "id": "Db7Bz9aIjAPS",
        "outputId": "d96da3f2-621d-4f32-84f3-626bca7a518a",
        "colab": {
          "base_uri": "https://localhost:8080/"
        }
      },
      "source": [
        "# Sim, pela função sorted().\n",
        "sorted(d_frutas3.items())"
      ],
      "execution_count": null,
      "outputs": [
        {
          "output_type": "execute_result",
          "data": {
            "text/plain": [
              "[('Apple', 0.57),\n",
              " ('Blackcurrant', 0.57),\n",
              " ('Coconut', 0.61),\n",
              " ('Grape', 0.53),\n",
              " ('Grapefruit', 0.81),\n",
              " ('Mango', 0.65),\n",
              " ('Nectarine', 0.61)]"
            ]
          },
          "metadata": {
            "tags": []
          },
          "execution_count": 61
        }
      ]
    },
    {
      "cell_type": "markdown",
      "metadata": {
        "id": "CXqc9kHch6Mm"
      },
      "source": [
        "## Exercício 2\n",
        "* É possível termos um dicionário do tipo abaixo?"
      ]
    },
    {
      "cell_type": "code",
      "metadata": {
        "id": "0BBWO9Zth_mc"
      },
      "source": [
        "d_colaboradores= {'Gerentes': ['A', 'B', 'C'], 'Programadores': ['B', 'D', 'E', 'F', 'G'], 'Gerentes_Projeto': ['A', 'E']}"
      ],
      "execution_count": 3,
      "outputs": []
    },
    {
      "cell_type": "markdown",
      "metadata": {
        "id": "TNiJSG_uiePb"
      },
      "source": [
        "Como acessar o Gerente 'A'?"
      ]
    },
    {
      "cell_type": "code",
      "metadata": {
        "id": "PBPEKAUMi3LY",
        "outputId": "613ce66a-31cb-4693-8cbc-951bdb724cad",
        "colab": {
          "base_uri": "https://localhost:8080/",
          "height": 35
        }
      },
      "source": [
        "d_colaboradores['Gerentes'][0]"
      ],
      "execution_count": null,
      "outputs": [
        {
          "output_type": "execute_result",
          "data": {
            "application/vnd.google.colaboratory.intrinsic+json": {
              "type": "string"
            },
            "text/plain": [
              "'A'"
            ]
          },
          "metadata": {
            "tags": []
          },
          "execution_count": 57
        }
      ]
    },
    {
      "cell_type": "code",
      "metadata": {
        "id": "a4Fxq_BWl1e7"
      },
      "source": [
        ""
      ],
      "execution_count": null,
      "outputs": []
    },
    {
      "cell_type": "markdown",
      "metadata": {
        "id": "ntVcr_3XwaQ-"
      },
      "source": [
        "## Exercício 3\n",
        "Consulte a página [Python Data Types: Dictionary - Exercises, Practice, Solution](https://www.w3resource.com/python-exercises/dictionary/) para mais exercícios relacionados à dicionários."
      ]
    },
    {
      "cell_type": "code",
      "metadata": {
        "id": "xY51WcBrl2o9",
        "outputId": "1f2dc204-3ba9-43d5-f9f7-737042ae33b5",
        "colab": {
          "base_uri": "https://localhost:8080/"
        }
      },
      "source": [
        ""
      ],
      "execution_count": null,
      "outputs": [
        {
          "output_type": "execute_result",
          "data": {
            "text/plain": [
              "{}"
            ]
          },
          "metadata": {
            "tags": []
          },
          "execution_count": 68
        }
      ]
    },
    {
      "cell_type": "markdown",
      "metadata": {
        "id": "6DkbotFBm_lD"
      },
      "source": [
        "## Exercício 4\n",
        "Retornar do dicionario d_colaboradores somente o programador de nome 'E'\n",
        "\n"
      ]
    },
    {
      "cell_type": "code",
      "metadata": {
        "id": "vw9kUvw7nMuY",
        "outputId": "fce73b4b-74bd-4cf7-b52f-cffde6f90461",
        "colab": {
          "base_uri": "https://localhost:8080/",
          "height": 35
        }
      },
      "source": [
        "procurado = 'E'\n",
        "pessoa = [v for k, v in filter(lambda t: procurado in t[1], d_colaboradores.values())]\n",
        "pessoa"
      ],
      "execution_count": 15,
      "outputs": [
        {
          "output_type": "execute_result",
          "data": {
            "text/plain": [
              "['E']"
            ]
          },
          "metadata": {
            "tags": []
          },
          "execution_count": 15
        }
      ]
    },
    {
      "cell_type": "markdown",
      "metadata": {
        "id": "bsehLwWZnOli"
      },
      "source": [
        "# Exercício 5\n",
        "Retornar qual o cargo do funcionário (todas as pessoas da organização) chamadas 'A'"
      ]
    },
    {
      "cell_type": "code",
      "metadata": {
        "id": "COc3zFSNnXSB",
        "outputId": "0732ab77-813d-4104-c6a0-e4043faafb26",
        "colab": {
          "base_uri": "https://localhost:8080/",
          "height": 35
        }
      },
      "source": [
        "busca = \"A\"\n",
        "cargos = [k for k, v in filter(lambda t: busca in t[1], d_colaboradores.items()) ]\n",
        "cargos"
      ],
      "execution_count": 10,
      "outputs": [
        {
          "output_type": "execute_result",
          "data": {
            "text/plain": [
              "['Gerentes', 'Gerentes_Projeto']"
            ]
          },
          "metadata": {
            "tags": []
          },
          "execution_count": 10
        }
      ]
    },
    {
      "cell_type": "markdown",
      "metadata": {
        "id": "ccDA_ZZ_nZSx"
      },
      "source": [
        "# Exercício 6\n",
        "Quais os colaboradores que são ao mesmo tempo:\n",
        "<br>1. Gerentes de projeto e Gerente operacional\n",
        "<br>2. Gerentes de projeto e programadores\n"
      ]
    },
    {
      "cell_type": "code",
      "metadata": {
        "id": "E6ckOFljnikI",
        "outputId": "3b36356b-b9c9-435d-8d64-b9eb31e2ed82",
        "colab": {
          "base_uri": "https://localhost:8080/",
          "height": 35
        }
      },
      "source": [
        "import numpy as np\n",
        "print(np.intersect1d(d_colaboradores['Gerentes'],d_colaboradores['Gerentes_Projeto']), 'são gerentes e gerentes de projeto')"
      ],
      "execution_count": 4,
      "outputs": [
        {
          "output_type": "stream",
          "text": [
            "['A'] são gerentes e gerentes de projeto\n"
          ],
          "name": "stdout"
        }
      ]
    }
  ]
}